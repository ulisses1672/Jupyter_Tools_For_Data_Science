{
 "cells": [
  {
   "cell_type": "markdown",
   "id": "5844cf21",
   "metadata": {},
   "source": [
    "# Tools for Data Science"
   ]
  },
  {
   "cell_type": "markdown",
   "id": "f46398ff",
   "metadata": {},
   "source": [
    "## Introduction to Tools for Data Science\n",
    "\n",
    "Data science involves extracting insights and knowledge from data to make informed decisions. To effectively work with data, data scientists rely on a variety of tools that aid in data collection, analysis, visualization, and more. In this section, we'll briefly introduce some of the essential tools used in data science:\n",
    "\n",
    "### Programming Languages\n",
    "\n",
    "1. **Python**\n",
    "\n",
    "2. **R**\n",
    "\n",
    "### Data Manipulation and Analysis\n",
    "\n",
    "1. **Pandas**\n",
    "\n",
    "2. **NumPy**\n",
    "\n",
    "### Visualization\n",
    "\n",
    "1. **Matplotlib**\n",
    "\n",
    "2. **Seaborn**\n",
    "\n",
    "3. **ggplot2**\n",
    "\n",
    "### Machine Learning\n",
    "\n",
    "1. **scikit-learn**\n",
    "\n",
    "2. **TensorFlow** and **PyTorch**\n",
    "\n",
    "### Version Control\n",
    "\n",
    "1. **Git**\n",
    "\n",
    "2. **GitLab**"
   ]
  },
  {
   "cell_type": "code",
   "execution_count": null,
   "id": "8e2e2399",
   "metadata": {},
   "outputs": [],
   "source": []
  },
  {
   "cell_type": "markdown",
   "id": "8f4271fa",
   "metadata": {},
   "source": [
    "# Data Science Languages\n",
    "\n",
    "Data science involves working with data to gain insights and make informed decisions. Various programming languages are used in this field to manipulate, analyze, visualize, and model data. Here are some of the prominent languages used in data science:\n",
    "\n",
    "## 1. Python\n",
    "\n",
    "Python is one of the most popular and versatile languages in data science. It offers a wide range of libraries and frameworks such as Pandas, NumPy, scikit-learn, Matplotlib, and TensorFlow, making it suitable for tasks ranging from data cleaning to machine learning and deep learning.\n",
    "\n",
    "## 2. R\n",
    "\n",
    "R is another language widely used in statistics and data analysis. It has a rich ecosystem of packages for data manipulation (dplyr), data visualization (ggplot2), and statistical modeling, making it a preferred choice for statisticians and researchers.\n",
    "\n",
    "## 3. SQL\n",
    "\n",
    "Structured Query Language (SQL) is essential for working with relational databases. Data scientists use SQL to retrieve, manipulate, and analyze data stored in databases, which is crucial for various data-related tasks.\n",
    "\n",
    "## 4. Julia\n",
    "\n",
    "Julia is a newer programming language that's gaining traction in the data science community due to its performance and ease of use. It's designed for numerical and scientific computing, making it suitable for data analysis and high-performance computations.\n",
    "\n",
    "## 5. SAS\n",
    "\n",
    "Statistical Analysis System (SAS) is widely used in industries and academia for advanced analytics, business intelligence, and data management. It provides tools for data transformation, statistical analysis, and predictive modeling.\n",
    "\n",
    "## 6. Scala\n",
    "\n",
    "Scala is often used with Apache Spark, a powerful framework for distributed data processing and big data analysis. It combines object-oriented and functional programming paradigms and is suitable for handling large-scale data.\n",
    "\n",
    "These are some of the languages used in data science. "
   ]
  },
  {
   "cell_type": "code",
   "execution_count": null,
   "id": "1b3dfc39",
   "metadata": {},
   "outputs": [],
   "source": []
  },
  {
   "cell_type": "markdown",
   "id": "af6f2352",
   "metadata": {},
   "source": [
    "# Essential Data Science Libraries\n",
    "\n",
    "Data science involves using specialized libraries to efficiently manipulate, analyze, visualize, and model data. Here are some fundamental libraries that data scientists often use:\n",
    "\n",
    "## Data Manipulation and Analysis\n",
    "\n",
    "- **Pandas**\n",
    "\n",
    "- **NumPy**\n",
    "\n",
    "## Data Visualization\n",
    "\n",
    "- **Matplotlib**\n",
    "\n",
    "- **Seaborn**\n",
    "\n",
    "- **Plotly**\n",
    "\n",
    "## Machine Learning\n",
    "\n",
    "- **scikit-learn**\n",
    "\n",
    "- **TensorFlow**\n",
    "\n",
    "- **PyTorch**\n",
    "\n",
    "\n",
    "## Statistical Computing\n",
    "\n",
    "- **SciPy**\n",
    "\n",
    "## Natural Language Processing (NLP)\n",
    "\n",
    "- **NLTK**\n",
    "- **spaCy**\n",
    "\n",
    "## Big Data and Distributed Computing\n",
    "\n",
    "- **PySpark**\n",
    "\n",
    "These libraries are some of the libraries.\n"
   ]
  },
  {
   "cell_type": "code",
   "execution_count": null,
   "id": "a6365621",
   "metadata": {},
   "outputs": [],
   "source": []
  },
  {
   "cell_type": "markdown",
   "id": "7d146a40",
   "metadata": {},
   "source": [
    "# Data Science Tools\n",
    "\n",
    "| Tool                | Description                                                                                                   |\n",
    "|:--------------------|:--------------------------------------------------------------------------------------------------------------|\n",
    "| Programming Languages |  |\n",
    "| Python              | A versatile language with rich libraries for data manipulation, analysis, and machine learning.              |\n",
    "| R                   | Widely used for statistical analysis, data visualization, and creating interactive reports.                  |\n",
    "| Julia               | Known for its high performance and suitability for numerical and scientific computing.                     |\n",
    "| SQL                 | Essential for querying and managing data stored in relational databases.                                   |\n",
    "| SAS                 | Used for advanced analytics, business intelligence, and data management in industries and academia.         |\n",
    "| Scala               | Often paired with Apache Spark for distributed data processing and analysis.                               |\n",
    "\n",
    "<br>\n",
    "\n",
    "| Data Manipulation and Analysis Libraries |  |\n",
    "|:------------------------|:---------------------------------------------------------------------------------------------------------|\n",
    "| Pandas                  | Python library for data manipulation and analysis, providing DataFrames and Series for easy data handling. |\n",
    "| NumPy                   | Fundamental package for numerical computation in Python, essential for working with arrays and matrices.  |\n",
    "\n",
    "<br>\n",
    "\n",
    "| Data Visualization Libraries |  |\n",
    "|:--------------------------|:-----------------------------------------------------------------------------------------------------|\n",
    "| Matplotlib               | A versatile Python plotting library for creating static, interactive, and animated visualizations.  |\n",
    "| Seaborn                  | Built on Matplotlib, it simplifies creating informative and visually appealing statistical plots. |\n",
    "| Plotly                   | Enables interactive visualizations, dashboards, and web-based applications with rich graphics.   |\n",
    "\n",
    "<br>\n",
    "\n",
    "| Machine Learning Frameworks |  |\n",
    "|:-------------------------|:---------------------------------------------------------------------------------------------|\n",
    "| scikit-learn             | A comprehensive machine learning library for Python.|\n",
    "| TensorFlow               | Widely used open-source deep learning framework for building and training neural networks.                     |\n",
    "| PyTorch                  | Deep learning framework known for its dynamic computational graph and popularity in research.                  |\n",
    "\n",
    "<br>\n",
    "\n",
    "| Statistical Computing Library |  |\n",
    "|:----------------------------|:-----------------------------------------------------------------------------------------|\n",
    "| SciPy                       | Extends NumPy with functions for optimization, integration, interpolation, and more. |\n",
    "\n",
    "<br>\n",
    "\n",
    "| Natural Language Processing (NLP) Libraries |  |\n",
    "|:-------------------------------------------|:-------------------------------------------------------------------------|\n",
    "| NLTK                                      | A toolkit for NLP tasks like tokenization, stemming, tagging, and parsing. |\n",
    "| spaCy                                     | A fast NLP library with pre-trained models for tasks like entity recognition. |\n",
    "\n",
    "<br>\n",
    "\n",
    "| Big Data and Distributed Computing Tools |  |\n",
    "|:----------------------------------------|:------------------------------------------------------------|\n",
    "| PySpark                                | Python library for Apache Spark, a framework for distributed data processing. |\n"
   ]
  },
  {
   "cell_type": "code",
   "execution_count": null,
   "id": "3cd4fb89",
   "metadata": {},
   "outputs": [],
   "source": []
  },
  {
   "cell_type": "markdown",
   "id": "ddac65c9",
   "metadata": {},
   "source": [
    "# Arithmetic Expression Examples\n",
    "\n",
    "Arithmetic expressions play a fundamental role in mathematics and programming. They involve mathematical operations like addition, subtraction, multiplication, and division, allowing us to perform calculations. In this section, we'll explore some common arithmetic expression examples:\n",
    "\n",
    "## Addition and Subtraction\n",
    "\n",
    "Arithmetic expressions involving addition and subtraction are used to combine or subtract numerical values. Here are some examples:\n",
    "\n",
    "- **Example 1**: \\(5 + 3\\) results in \\(8\\).\n",
    "- **Example 2**: \\(12 - 7\\) equals \\(5\\).\n",
    "- **Example 3**: \\(2 + (-6)\\) gives \\(-4\\), where the negative sign indicates subtraction.\n",
    "\n",
    "## Multiplication and Division\n",
    "\n",
    "Expressions with multiplication and division are used to scale or distribute values. Here are a few examples:\n",
    "\n",
    "- **Example 4**: \\(4 \\times 6\\) equals \\(24\\).\n",
    "- **Example 5**: \\(15 \\div 3\\) results in \\(5\\).\n",
    "- **Example 6**: \\((-8) \\times 2\\) gives \\(-16\\).\n",
    "\n",
    "## Mixed Operations\n",
    "\n",
    "Arithmetic expressions can involve multiple operations. Here are some examples:\n",
    "\n",
    "- **Example 7**: \\(3 + 2 \\times 4\\) equals \\(11\\), following the order of operations (PEMDAS/BODMAS).\n",
    "- **Example 8**: \\((6 - 2) \\times 5\\) gives \\(20\\).\n",
    "- **Example 9**: \\(12 \\div (4 - 1)\\) results in \\(4\\).\n",
    "\n",
    "## Parentheses for Clarity\n",
    "\n",
    "Using parentheses helps clarify the order of operations and ensures the desired calculations. Here's an example:\n",
    "\n",
    "- **Example 10**: \\(2 \\times (3 + 4)\\) equals \\(14\\), emphasizing that the addition should be done before multiplication.\n",
    "\n"
   ]
  },
  {
   "cell_type": "code",
   "execution_count": null,
   "id": "c760eefa",
   "metadata": {},
   "outputs": [],
   "source": []
  },
  {
   "cell_type": "code",
   "execution_count": 2,
   "id": "d1a7e0e8",
   "metadata": {},
   "outputs": [
    {
     "name": "stdout",
     "output_type": "stream",
     "text": [
      "Multiplying 555 and 313 gives 173715\n",
      "Adding 7 and 12 results in 19\n"
     ]
    }
   ],
   "source": [
    "# Multiplication and Addition Examples\n",
    "\n",
    "# Multiplication\n",
    "num1 = 555\n",
    "num2 = 313\n",
    "result_multiplication = num1 * num2\n",
    "print(f\"Multiplying {num1} and {num2} gives {result_multiplication}\")\n",
    "\n",
    "# Addition\n",
    "num3 = 7\n",
    "num4 = 12\n",
    "result_addition = num3 + num4\n",
    "print(f\"Adding {num3} and {num4} results in {result_addition}\")\n"
   ]
  },
  {
   "cell_type": "code",
   "execution_count": null,
   "id": "f93997ca",
   "metadata": {},
   "outputs": [],
   "source": []
  },
  {
   "cell_type": "code",
   "execution_count": 3,
   "id": "1c57985d",
   "metadata": {},
   "outputs": [
    {
     "name": "stdout",
     "output_type": "stream",
     "text": [
      "12458 minutes is equal to 207 hours and 38 minutes.\n"
     ]
    }
   ],
   "source": [
    "# Conversion from Minutes to Hours\n",
    "\n",
    "minutes = 12458  # Change this value to the number of minutes you want to convert\n",
    "\n",
    "# Convert minutes to hours and minutes\n",
    "hours = minutes // 60  # Get the whole number of hours\n",
    "remaining_minutes = minutes % 60  # Get the remaining minutes\n",
    "\n",
    "print(f\"{minutes} minutes is equal to {hours} hours and {remaining_minutes} minutes.\")\n"
   ]
  },
  {
   "cell_type": "code",
   "execution_count": null,
   "id": "8c8b399c",
   "metadata": {},
   "outputs": [],
   "source": []
  },
  {
   "cell_type": "markdown",
   "id": "5a072bae",
   "metadata": {},
   "source": [
    "# Objectives\n",
    "\n",
    "In this section, we will focus on achieving the following objectives:\n",
    "\n",
    "Exercise 2 - Create a markdown cell with the title of the notebook.\n",
    "\n",
    "Exercise 3 - Create a markdown cell for an introduction.\n",
    "\n",
    "Exercise 4 - Create a markdown cell to list data science languages.\n",
    "\n",
    "Exercise 5 - Create a markdown cell to list data science libraries.\n",
    "\n",
    "Exercise 6 - Create a markdown cell with a table of Data Science tools.\n",
    "\n",
    "Exercise 7 - Create a markdown cell introducing arithmetic expression examples.\n",
    "\n",
    "Exercise 8 - Create a code cell to multiply and add numbers.\n",
    "\n",
    "Exercise 9 - Create a code cell to convert minutes to hours.\n",
    "\n"
   ]
  },
  {
   "cell_type": "code",
   "execution_count": null,
   "id": "5b5565da",
   "metadata": {},
   "outputs": [],
   "source": []
  },
  {
   "cell_type": "markdown",
   "id": "c74a6e88",
   "metadata": {},
   "source": [
    "# **Author**: Ulisses Ferreira\n"
   ]
  },
  {
   "cell_type": "code",
   "execution_count": null,
   "id": "cd61970e",
   "metadata": {},
   "outputs": [],
   "source": []
  },
  {
   "cell_type": "markdown",
   "id": "0bb350aa",
   "metadata": {},
   "source": [
    "[Notebook Link](https://github.com/ulisses1672/Jupyter_Tools_For_Data_Science)\n"
   ]
  },
  {
   "cell_type": "code",
   "execution_count": null,
   "id": "059f2d53",
   "metadata": {},
   "outputs": [],
   "source": []
  },
  {
   "cell_type": "code",
   "execution_count": null,
   "id": "29fc512e",
   "metadata": {},
   "outputs": [],
   "source": []
  }
 ],
 "metadata": {
  "kernelspec": {
   "display_name": "Python 3 (ipykernel)",
   "language": "python",
   "name": "python3"
  },
  "language_info": {
   "codemirror_mode": {
    "name": "ipython",
    "version": 3
   },
   "file_extension": ".py",
   "mimetype": "text/x-python",
   "name": "python",
   "nbconvert_exporter": "python",
   "pygments_lexer": "ipython3",
   "version": "3.11.4"
  }
 },
 "nbformat": 4,
 "nbformat_minor": 5
}
